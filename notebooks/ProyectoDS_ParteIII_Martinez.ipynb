{
 "cells": [
  {
   "cell_type": "code",
   "execution_count": 55,
   "metadata": {},
   "outputs": [],
   "source": [
    "import pandas as pd\n",
    "import numpy as np\n",
    "import matplotlib as mpl\n",
    "import matplotlib.pyplot as plt\n",
    "import seaborn as sns\n",
    "import datetime\n",
    "import math\n",
    "\n",
    "from sklearn.linear_model import LinearRegression\n",
    "from sklearn.model_selection import train_test_split\n",
    "from sklearn.metrics import mean_squared_error"
   ]
  },
  {
   "cell_type": "code",
   "execution_count": 5,
   "metadata": {},
   "outputs": [
    {
     "name": "stdout",
     "output_type": "stream",
     "text": [
      "Date                       object\n",
      "priceUSD                  float64\n",
      "size                      float64\n",
      "sentbyaddress               int64\n",
      "transactions                int64\n",
      "mining_profitability      float64\n",
      "sentinusd                 float64\n",
      "transactionfees           float64\n",
      "median_transaction_fee    float64\n",
      "confirmationtime          float64\n",
      "marketcap                   int64\n",
      "transactionvalue          float64\n",
      "mediantransactionvalue    float64\n",
      "tweets                      int64\n",
      "google_trends             float64\n",
      "fee_to_reward             float64\n",
      "activeaddresses             int64\n",
      "top100cap                 float64\n",
      "dtype: object\n",
      "datetime64[ns]\n"
     ]
    }
   ],
   "source": [
    "df = pd.read_csv('C:\\\\Users\\\\Administrador\\\\Desktop\\\\Data Scientist\\\\Data Science\\\\Proyecto\\\\GitHub\\\\Proyecto_DataScience_Coder\\\\data\\\\BTC_Data_final.csv')\n",
    "print(df.dtypes)\n",
    "df['Date']=pd.to_datetime(df['Date'])\n",
    "print(df['Date'].dtypes)\n",
    "df['Year'] = df['Date'].dt.year\n",
    "df['Month'] = df['Date'].dt.month"
   ]
  },
  {
   "attachments": {},
   "cell_type": "markdown",
   "metadata": {},
   "source": [
    "**i) Elegir un método de feature selection para reducir la dimensionalidad del dataset.**\n",
    "\n",
    "El método que elegí fue calcular las varianzas de mis columnas y eliminar la columna con menor varianza dado que es la que tiene menor influencia en el modelo."
   ]
  },
  {
   "cell_type": "code",
   "execution_count": 31,
   "metadata": {},
   "outputs": [
    {
     "name": "stdout",
     "output_type": "stream",
     "text": [
      "priceUSD                  2.562328e+08\n",
      "size                      4.339993e+10\n",
      "sentbyaddress             1.768725e+10\n",
      "transactions              7.103749e+09\n",
      "mining_profitability      2.541465e+01\n",
      "sentinusd                 5.036328e+20\n",
      "transactionfees           3.462044e+01\n",
      "median_transaction_fee    9.571395e+00\n",
      "confirmationtime          1.400519e+00\n",
      "marketcap                 9.161038e+22\n",
      "transactionvalue          5.623227e+10\n",
      "mediantransactionvalue    2.045375e+05\n",
      "tweets                    2.228725e+09\n",
      "google_trends             3.323207e+03\n",
      "fee_to_reward             2.863827e+01\n",
      "activeaddresses           5.785631e+10\n",
      "top100cap                 5.768431e+00\n",
      "Year                      6.340405e+00\n",
      "Month                     1.158312e+01\n",
      "dtype: float64\n",
      "La varianza mas baja es 1.4005190642087126 , confirmationtime.\n"
     ]
    },
    {
     "name": "stderr",
     "output_type": "stream",
     "text": [
      "C:\\Users\\Administrador\\AppData\\Local\\Temp\\ipykernel_29936\\519360572.py:1: FutureWarning: The default value of numeric_only in DataFrame.var is deprecated. In a future version, it will default to False. In addition, specifying 'numeric_only=None' is deprecated. Select only valid columns or specify the value of numeric_only to silence this warning.\n",
      "  varianzas = df.var()\n"
     ]
    }
   ],
   "source": [
    "varianzas = df.var()\n",
    "print(varianzas.head(20))\n",
    "\n",
    "print(\"La varianza mas baja es\", varianzas.min(),\", confirmationtime.\")"
   ]
  },
  {
   "cell_type": "code",
   "execution_count": 37,
   "metadata": {},
   "outputs": [],
   "source": [
    "datos_seleccionados = varianzas[varianzas > 1.4005190642087126].index\n",
    "\n",
    "df_reducido = df[datos_seleccionados]\n",
    "\n",
    "df_reducido.to_csv('C:\\\\Users\\\\Administrador\\\\Desktop\\\\Data Scientist\\\\Data Science\\\\Proyecto\\\\GitHub\\\\Proyecto_DataScience_Coder\\\\data\\\\df_reducido.csv', index=False)"
   ]
  },
  {
   "attachments": {},
   "cell_type": "markdown",
   "metadata": {},
   "source": [
    "**ii) elegir un algoritmo de regresión o clasificación para entrenar con los datos elegidos**\n",
    "\n",
    "A continuación se aplica algoritmo de regresión lineal para predecir las direcciones activas en virtud del precio de BTC."
   ]
  },
  {
   "cell_type": "code",
   "execution_count": 86,
   "metadata": {},
   "outputs": [
    {
     "name": "stdout",
     "output_type": "stream",
     "text": [
      "Error Cuadrático Medio (MSE): 28922636911.017258\n",
      "Error Cuadrático Medio Raíz (RMSE): 170066.56611755662\n",
      "La mediana de activeaddresses es: 595685.5\n",
      "El RMSE de este modelo representa el  28.54972399320726 % de la mediana de direcciones activas.\n"
     ]
    }
   ],
   "source": [
    "x = df_reducido[['priceUSD']]\n",
    "y = df_reducido['activeaddresses']\n",
    "\n",
    "x_train, x_test, y_train, y_test = train_test_split(x, y, test_size=0.25, random_state=10000)\n",
    "\n",
    "modelo = LinearRegression()\n",
    "modelo.fit(x_train, y_train)\n",
    "\n",
    "y_pred = modelo.predict(x_test)\n",
    "\n",
    "mse = mean_squared_error(y_test, y_pred)\n",
    "rmse = math.sqrt(mse)\n",
    "mediana = df_reducido['activeaddresses'].median()\n",
    "print('Error Cuadrático Medio (MSE):', mse)\n",
    "print('Error Cuadrático Medio Raíz (RMSE):', rmse)\n",
    "print(\"La mediana de activeaddresses es:\", mediana)\n",
    "print(\"El RMSE de este modelo representa el \", rmse/mediana*100 , \"%\", \"de la mediana de direcciones activas.\" )"
   ]
  },
  {
   "attachments": {},
   "cell_type": "markdown",
   "metadata": {},
   "source": [
    "**iii) cálculo de métricas para validar el modelo**\n",
    "\n",
    "A continuación se genera una instancia para que el usuario ingrese un precio determinado, y el modelo genere la predicción de direcciones activas en base al valor ingresado."
   ]
  },
  {
   "cell_type": "code",
   "execution_count": 92,
   "metadata": {},
   "outputs": [
    {
     "name": "stdout",
     "output_type": "stream",
     "text": [
      "El precio ingresado fue:  5000\n",
      "Las direcciones activas para el precio ingresado son:  [505116.95270071]\n"
     ]
    },
    {
     "name": "stderr",
     "output_type": "stream",
     "text": [
      "c:\\Users\\Administrador\\AppData\\Local\\Programs\\Python\\Python311\\Lib\\site-packages\\sklearn\\base.py:420: UserWarning: X does not have valid feature names, but LinearRegression was fitted with feature names\n",
      "  warnings.warn(\n"
     ]
    }
   ],
   "source": [
    "precio = int(input(\"Ingresa un precio de BTC para obtener una prediccion de direcciones activas: \"))\n",
    "\n",
    "x_ejemplo = np.array(precio).reshape(-1, 1)\n",
    "\n",
    "predicciones_ejemplo = modelo.predict(x_ejemplo)\n",
    "\n",
    "print(\"El precio ingresado fue: \", precio)\n",
    "print(\"Las direcciones activas para el precio ingresado son: \", predicciones_ejemplo)"
   ]
  },
  {
   "attachments": {},
   "cell_type": "markdown",
   "metadata": {},
   "source": [
    "**iv) generar conclusiones con base en los resultados obtenidos.**"
   ]
  },
  {
   "cell_type": "code",
   "execution_count": 93,
   "metadata": {},
   "outputs": [
    {
     "name": "stdout",
     "output_type": "stream",
     "text": [
      "Las direcciones activas para el precio de 10000 son:  [555116.71732142]\n",
      "Las direcciones activas para el precio de 50000 son:  [955114.83428709]\n",
      "Las direcciones activas para el precio de 100000 son:  [1455112.48049417]\n"
     ]
    },
    {
     "name": "stderr",
     "output_type": "stream",
     "text": [
      "c:\\Users\\Administrador\\AppData\\Local\\Programs\\Python\\Python311\\Lib\\site-packages\\sklearn\\base.py:420: UserWarning: X does not have valid feature names, but LinearRegression was fitted with feature names\n",
      "  warnings.warn(\n",
      "c:\\Users\\Administrador\\AppData\\Local\\Programs\\Python\\Python311\\Lib\\site-packages\\sklearn\\base.py:420: UserWarning: X does not have valid feature names, but LinearRegression was fitted with feature names\n",
      "  warnings.warn(\n",
      "c:\\Users\\Administrador\\AppData\\Local\\Programs\\Python\\Python311\\Lib\\site-packages\\sklearn\\base.py:420: UserWarning: X does not have valid feature names, but LinearRegression was fitted with feature names\n",
      "  warnings.warn(\n"
     ]
    }
   ],
   "source": [
    "precio_prueba_10000 = 10000\n",
    "precio_prueba_50000 = 50000\n",
    "precio_prueba_100000 = 100000\n",
    "\n",
    "x_prueba10000 = np.array(precio_prueba_10000).reshape(-1, 1)\n",
    "prediccion_prueba_10000 = modelo.predict(x_prueba10000)\n",
    "\n",
    "x_prueba50000 = np.array(precio_prueba_50000).reshape(-1, 1)\n",
    "prediccion_prueba_50000 = modelo.predict(x_prueba50000)\n",
    "\n",
    "x_prueba100000 = np.array(precio_prueba_100000).reshape(-1, 1)\n",
    "prediccion_prueba_100000 = modelo.predict(x_prueba100000)\n",
    "\n",
    "print(\"Las direcciones activas para el precio de 10000 son: \", prediccion_prueba_10000)\n",
    "print(\"Las direcciones activas para el precio de 50000 son: \", prediccion_prueba_50000)\n",
    "print(\"Las direcciones activas para el precio de 100000 son: \", prediccion_prueba_100000)\n",
    "\n"
   ]
  },
  {
   "attachments": {},
   "cell_type": "markdown",
   "metadata": {},
   "source": [
    "Según el modelo generado a medida que el precio de BTC aumenta las direcciones activas aumentan de manera casi proporcional, esto puede atribuirse a que el precio es un incentivo significativo en el interes de las personas y empresas en utilizar este activo en diferentes tipos de transacciones."
   ]
  }
 ],
 "metadata": {
  "kernelspec": {
   "display_name": "Python 3",
   "language": "python",
   "name": "python3"
  },
  "language_info": {
   "codemirror_mode": {
    "name": "ipython",
    "version": 3
   },
   "file_extension": ".py",
   "mimetype": "text/x-python",
   "name": "python",
   "nbconvert_exporter": "python",
   "pygments_lexer": "ipython3",
   "version": "3.11.1"
  },
  "orig_nbformat": 4,
  "vscode": {
   "interpreter": {
    "hash": "c904bd87413170da76a9f53115cf6340fbe80dab715b9d9be2cd45de1b24f56d"
   }
  }
 },
 "nbformat": 4,
 "nbformat_minor": 2
}
