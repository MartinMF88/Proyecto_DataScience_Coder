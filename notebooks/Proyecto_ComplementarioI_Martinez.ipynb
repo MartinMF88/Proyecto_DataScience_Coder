{
 "cells": [
  {
   "cell_type": "code",
   "execution_count": 58,
   "metadata": {},
   "outputs": [
    {
     "name": "stdout",
     "output_type": "stream",
     "text": [
      "priceUSD                  float64\n",
      "size                      float64\n",
      "sentbyaddress               int64\n",
      "transactions                int64\n",
      "mining_profitability      float64\n",
      "sentinusd                 float64\n",
      "transactionfees           float64\n",
      "median_transaction_fee    float64\n",
      "marketcap                   int64\n",
      "transactionvalue          float64\n",
      "mediantransactionvalue    float64\n",
      "tweets                      int64\n",
      "google_trends             float64\n",
      "fee_to_reward             float64\n",
      "activeaddresses             int64\n",
      "top100cap                 float64\n",
      "Year                        int64\n",
      "Month                       int64\n",
      "dtype: object\n"
     ]
    }
   ],
   "source": [
    "import pandas as pd\n",
    "import numpy as np\n",
    "import datetime\n",
    "import math\n",
    "\n",
    "from sklearn.linear_model import LinearRegression\n",
    "from sklearn.model_selection import train_test_split\n",
    "from sklearn.metrics import mean_squared_error\n",
    "\n",
    "from keras.models import Sequential\n",
    "from keras.layers import Dense\n",
    "\n",
    "df = pd.read_csv('C:\\\\Users\\\\Administrador\\\\Desktop\\\\Data Scientist\\\\Data Science\\\\Proyecto\\\\GitHub\\\\Proyecto_DataScience_Coder\\\\data\\\\df_reducido.csv')\n",
    "print(df.dtypes)"
   ]
  },
  {
   "attachments": {},
   "cell_type": "markdown",
   "metadata": {},
   "source": [
    "#### 1 - Generar una evaluación de modelos apropiados para el problema de interés\n",
    "\n",
    "Siguiendo los pasos de la entrega anterior, se toman los datos *priceUSD* y *activeaddresses* para entrenar al modelo.\n",
    "\n",
    "*nota: este paso se replica en los modelos para evitar errores de procesamiento.*"
   ]
  },
  {
   "cell_type": "code",
   "execution_count": 57,
   "metadata": {},
   "outputs": [],
   "source": [
    "x = df['priceUSD']\n",
    "y = df['activeaddresses']\n",
    "\n",
    "x_train, x_test, y_train, y_test = train_test_split(x, y, test_size= 0.25, random_state=10000)\n"
   ]
  },
  {
   "attachments": {},
   "cell_type": "markdown",
   "metadata": {},
   "source": [
    "A continuación se implementa el modelo de redes neuronales (*model1*)."
   ]
  },
  {
   "cell_type": "code",
   "execution_count": 59,
   "metadata": {},
   "outputs": [
    {
     "name": "stdout",
     "output_type": "stream",
     "text": [
      "80/80 [==============================] - 0s 823us/step\n",
      "MSE en el conjunto de entrenamiento: 164821415732.80338\n",
      "RMSE en el conjunto de entrenamiento: 405982.0386825055\n",
      "20/20 [==============================] - 0s 617us/step\n",
      "MSE en el conjunto de prueba: 155298285153.46545\n",
      "RMSE en el conjunto de prueba: 394079.03414602694\n"
     ]
    }
   ],
   "source": [
    "x = df['priceUSD']\n",
    "y = df['activeaddresses']\n",
    "\n",
    "X_train, X_test, y_train, y_test = train_test_split(x, y, test_size=0.2, random_state=42)\n",
    "\n",
    "# Paso1: entrenar el modelo.\n",
    "model1 = Sequential()\n",
    "model1.add(Dense(12, input_dim=1, activation='relu'))\n",
    "model1.add(Dense(8, activation='relu'))\n",
    "model1.add(Dense(1, activation='linear'))\n",
    "model1.compile(loss='mean_squared_error', optimizer='adam')\n",
    "model1.fit(X_train, y_train, epochs=100, batch_size=32, verbose=0)\n",
    "\n",
    "# Paso2: Calcular el MSE y RMSE en el conjunto de entrenamiento.\n",
    "y_train_pred = model1.predict(X_train)\n",
    "mse_train = mean_squared_error(y_train, y_train_pred)\n",
    "print('MSE en el conjunto de entrenamiento:', mse_train)\n",
    "print('RMSE en el conjunto de entrenamiento:', math.sqrt(mse_train))\n",
    "\n",
    "# Paso3: Calcular el MSE y RMSE en el conjunto de prueba.\n",
    "y_test_pred = model1.predict(X_test)\n",
    "mse_test = mean_squared_error(y_test, y_test_pred)\n",
    "print('MSE en el conjunto de prueba:', mse_test)\n",
    "print('RMSE en el conjunto de prueba:', math.sqrt(mse_test))"
   ]
  },
  {
   "attachments": {},
   "cell_type": "markdown",
   "metadata": {},
   "source": [
    "El error cuadrático medio (MSE) obtenido es significativamente alto, por lo cual el modelo aplicado no está aportando valor de análisis."
   ]
  },
  {
   "attachments": {},
   "cell_type": "markdown",
   "metadata": {},
   "source": [
    "A continuación se implementa el modelo de regresión lineal (*model2*)."
   ]
  },
  {
   "cell_type": "code",
   "execution_count": 56,
   "metadata": {},
   "outputs": [
    {
     "name": "stdout",
     "output_type": "stream",
     "text": [
      "MSE en el conjunto de entrenamiento: 33331073149.308895\n",
      "RMSE en el conjunto de entrenamiento: 182567.9959612552\n",
      "MSE en el conjunto de prueba: 28922636911.017258\n",
      "RMSE en el conjunto de prueba: 170066.56611755662\n"
     ]
    }
   ],
   "source": [
    "x = df[['priceUSD']]\n",
    "y = df['activeaddresses']\n",
    "\n",
    "x_train, x_test, y_train, y_test = train_test_split(x, y, test_size=0.25, random_state=10000)\n",
    "\n",
    "# Paso1: entrenar el modelo.\n",
    "model = LinearRegression()\n",
    "model.fit(x_train, y_train)\n",
    "\n",
    "# Paso2: Calcular el MSE y RMSE en el conjunto de entrenamiento.\n",
    "y_train_pred = model.predict(x_train)\n",
    "mse_train = mean_squared_error(y_train, y_train_pred)\n",
    "print('MSE en el conjunto de entrenamiento:', mse_train)\n",
    "print('RMSE en el conjunto de entrenamiento:', math.sqrt(mse_train))\n",
    "\n",
    "# Paso3: Calcular el MSE y RMSE en el conjunto de prueba.\n",
    "y_test_pred = model.predict(x_test)\n",
    "mse_test = mean_squared_error(y_test, y_test_pred)\n",
    "print('MSE en el conjunto de prueba:', mse_test)\n",
    "print('RMSE en el conjunto de prueba:', math.sqrt(mse_test))"
   ]
  },
  {
   "attachments": {},
   "cell_type": "markdown",
   "metadata": {},
   "source": [
    "En este caso, el resultado del MSE es menor al obtenido en el modelo de redes neuronales, por lo cual en principio el modelo de regresión líneal puede ser de mayor utilidad."
   ]
  },
  {
   "attachments": {},
   "cell_type": "markdown",
   "metadata": {},
   "source": [
    "A continuación se implementa el modelo de regresión polinomial (*model3*)."
   ]
  },
  {
   "cell_type": "code",
   "execution_count": 52,
   "metadata": {},
   "outputs": [
    {
     "name": "stdout",
     "output_type": "stream",
     "text": [
      "MSE en el conjunto de entrenamiento: 22785550162.735775\n",
      "RMSE en el conjunto de entrenamiento: 150948.83292935978\n",
      "MSE en el conjunto de prueba: 23744564358.15149\n",
      "RMSE en el conjunto de prueba: 154092.71351414215\n"
     ]
    }
   ],
   "source": [
    "from sklearn.preprocessing import PolynomialFeatures\n",
    "\n",
    "x = df[['priceUSD']]\n",
    "y = df['activeaddresses']\n",
    "\n",
    "poly = PolynomialFeatures(degree=2)\n",
    "x_poly = poly.fit_transform(x)\n",
    "\n",
    "# Paso1: entrenar el modelo.\n",
    "x_train, x_test, y_train, y_test = train_test_split(x_poly, y, test_size=0.2, random_state=42)\n",
    "\n",
    "# Paso2: Calcular el MSE y RMSE en el conjunto de entrenamiento.\n",
    "model = LinearRegression()\n",
    "model.fit(x_train, y_train)\n",
    "\n",
    "# Paso3: Calcular el MSE y RMSE en el conjunto de entrenamiento.\n",
    "y_train_pred = model.predict(x_train)\n",
    "mse_train = mean_squared_error(y_train, y_train_pred)\n",
    "print('MSE en el conjunto de entrenamiento:', mse_train)\n",
    "print('RMSE en el conjunto de entrenamiento:', math.sqrt(mse_train))\n",
    "\n",
    "# Paso3: Calcular el MSE y RMSE en el conjunto de prueba.\n",
    "y_test_pred = model.predict(x_test)\n",
    "mse_test = mean_squared_error(y_test, y_test_pred)\n",
    "print('MSE en el conjunto de prueba:', mse_test)\n",
    "print('RMSE en el conjunto de prueba:', math.sqrt(mse_test))"
   ]
  },
  {
   "attachments": {},
   "cell_type": "markdown",
   "metadata": {},
   "source": [
    "Finalmente, encontramos que con el modelo de regresión polinomial se obtiene el menor MSE, por lo cual puede considerarse el modelo que más valor puede aportar al análisis."
   ]
  },
  {
   "attachments": {},
   "cell_type": "markdown",
   "metadata": {},
   "source": [
    "#### 2 - Identificar por medio de las métricas generadas si se puede tener una situación de overfitting (sobreajuste) o underfitting (subajuste), discutiendo posibles formas de mejora."
   ]
  },
  {
   "attachments": {},
   "cell_type": "markdown",
   "metadata": {},
   "source": [
    "En cuanto a los modelos que hemos explorado:\n",
    "\n",
    "Redes neuronales: El modelo de redes neuronales se ajustó con un conjunto de entrenamiento y se evaluó con un conjunto de prueba. La raíz del error cuadrático medio (RMSE) para el conjunto de entrenamiento fue de 405937.393, mientras que para el conjunto de prueba fue de 393965.015. Es importante destacar que el RMSE del conjunto de prueba es significativamente mayor que el del conjunto de entrenamiento, lo que sugiere que el modelo puede estar sobreajustando los datos de entrenamiento y no generalizando bien a los datos nuevos. Una posible forma de mejorar el modelo es utilizar técnicas de regularización, como la reducción de la complejidad de la red neuronal (disminuyendo el número de capas o neuronas) o agregando términos de penalización en la función de pérdida.\n",
    "\n",
    "Regresión lineal: El modelo de regresión lineal también se ajustó con un conjunto de entrenamiento y se evaluó con un conjunto de prueba. El error cuadrático medio (MSE) para el conjunto de entrenamiento fue de 1590382970.6610088, mientras que para el conjunto de prueba fue de 1677898038.1307726. Los valores de MSE son similares tanto para el conjunto de entrenamiento como para el de prueba, lo que sugiere que el modelo está generalizando bien a los nuevos datos y que no hay una situación de sobreajuste o subajuste.\n",
    "\n",
    "Regresión polinomial: Al igual que en los modelos anteriores, el modelo de regresión polinomial se ajustó con un conjunto de entrenamiento y se evaluó con un conjunto de prueba. El error cuadrático medio (MSE) para el conjunto de entrenamiento fue de 1404411994.2352874, mientras que para el conjunto de prueba fue de 1470982344.6715164. Los valores de MSE son similares tanto para el conjunto de entrenamiento como para el de prueba, lo que sugiere que el modelo está generalizando bien a los nuevos datos y que no hay una situación de sobreajuste o subajuste."
   ]
  }
 ],
 "metadata": {
  "kernelspec": {
   "display_name": "Python 3",
   "language": "python",
   "name": "python3"
  },
  "language_info": {
   "codemirror_mode": {
    "name": "ipython",
    "version": 3
   },
   "file_extension": ".py",
   "mimetype": "text/x-python",
   "name": "python",
   "nbconvert_exporter": "python",
   "pygments_lexer": "ipython3",
   "version": "3.11.1"
  },
  "orig_nbformat": 4,
  "vscode": {
   "interpreter": {
    "hash": "c904bd87413170da76a9f53115cf6340fbe80dab715b9d9be2cd45de1b24f56d"
   }
  }
 },
 "nbformat": 4,
 "nbformat_minor": 2
}
