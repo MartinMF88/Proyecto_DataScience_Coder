{
 "cells": [
  {
   "cell_type": "code",
   "execution_count": 47,
   "metadata": {},
   "outputs": [
    {
     "name": "stdout",
     "output_type": "stream",
     "text": [
      "Date                       object\n",
      "priceUSD                  float64\n",
      "size                      float64\n",
      "sentbyaddress               int64\n",
      "transactions                int64\n",
      "mining_profitability      float64\n",
      "sentinusd                 float64\n",
      "transactionfees           float64\n",
      "median_transaction_fee    float64\n",
      "confirmationtime          float64\n",
      "marketcap                   int64\n",
      "transactionvalue          float64\n",
      "mediantransactionvalue    float64\n",
      "tweets                      int64\n",
      "google_trends             float64\n",
      "fee_to_reward             float64\n",
      "activeaddresses             int64\n",
      "top100cap                 float64\n",
      "dtype: object\n",
      "datetime64[ns]\n"
     ]
    },
    {
     "data": {
      "text/html": [
       "<div>\n",
       "<style scoped>\n",
       "    .dataframe tbody tr th:only-of-type {\n",
       "        vertical-align: middle;\n",
       "    }\n",
       "\n",
       "    .dataframe tbody tr th {\n",
       "        vertical-align: top;\n",
       "    }\n",
       "\n",
       "    .dataframe thead th {\n",
       "        text-align: right;\n",
       "    }\n",
       "</style>\n",
       "<table border=\"1\" class=\"dataframe\">\n",
       "  <thead>\n",
       "    <tr style=\"text-align: right;\">\n",
       "      <th></th>\n",
       "      <th>Date</th>\n",
       "      <th>priceUSD</th>\n",
       "      <th>size</th>\n",
       "      <th>sentbyaddress</th>\n",
       "      <th>transactions</th>\n",
       "      <th>mining_profitability</th>\n",
       "      <th>sentinusd</th>\n",
       "      <th>transactionfees</th>\n",
       "      <th>median_transaction_fee</th>\n",
       "      <th>confirmationtime</th>\n",
       "      <th>marketcap</th>\n",
       "      <th>transactionvalue</th>\n",
       "      <th>mediantransactionvalue</th>\n",
       "      <th>tweets</th>\n",
       "      <th>google_trends</th>\n",
       "      <th>fee_to_reward</th>\n",
       "      <th>activeaddresses</th>\n",
       "      <th>top100cap</th>\n",
       "      <th>Year</th>\n",
       "      <th>Month</th>\n",
       "    </tr>\n",
       "  </thead>\n",
       "  <tbody>\n",
       "    <tr>\n",
       "      <th>0</th>\n",
       "      <td>2014-04-09</td>\n",
       "      <td>447.11</td>\n",
       "      <td>243742.0</td>\n",
       "      <td>122401</td>\n",
       "      <td>64992</td>\n",
       "      <td>38.678</td>\n",
       "      <td>239212041.0</td>\n",
       "      <td>0.139</td>\n",
       "      <td>0.0447</td>\n",
       "      <td>8.944</td>\n",
       "      <td>5587996110</td>\n",
       "      <td>4115.0</td>\n",
       "      <td>100.42</td>\n",
       "      <td>8193</td>\n",
       "      <td>11.193</td>\n",
       "      <td>0.502</td>\n",
       "      <td>179274</td>\n",
       "      <td>19.211</td>\n",
       "      <td>2014</td>\n",
       "      <td>4</td>\n",
       "    </tr>\n",
       "  </tbody>\n",
       "</table>\n",
       "</div>"
      ],
      "text/plain": [
       "        Date  priceUSD      size  sentbyaddress  transactions  \\\n",
       "0 2014-04-09    447.11  243742.0         122401         64992   \n",
       "\n",
       "   mining_profitability    sentinusd  transactionfees  median_transaction_fee  \\\n",
       "0                38.678  239212041.0            0.139                  0.0447   \n",
       "\n",
       "   confirmationtime   marketcap  transactionvalue  mediantransactionvalue  \\\n",
       "0             8.944  5587996110            4115.0                  100.42   \n",
       "\n",
       "   tweets  google_trends  fee_to_reward  activeaddresses  top100cap  Year  \\\n",
       "0    8193         11.193          0.502           179274     19.211  2014   \n",
       "\n",
       "   Month  \n",
       "0      4  "
      ]
     },
     "execution_count": 47,
     "metadata": {},
     "output_type": "execute_result"
    }
   ],
   "source": [
    "import pandas as pd\n",
    "import numpy as np\n",
    "import matplotlib as mpl\n",
    "import matplotlib.pyplot as plt\n",
    "import seaborn as sns\n",
    "import datetime\n",
    "\n",
    "df = pd.read_csv('C:\\\\Users\\\\Administrador\\\\Desktop\\\\Data Scientist\\\\Data Science\\\\Proyecto\\\\GitHub\\\\Proyecto_DataScience_Coder\\\\data\\\\BTC_Data_final.csv')\n",
    "print(df.dtypes)\n",
    "df['Date']=pd.to_datetime(df['Date'])\n",
    "print(df['Date'].dtypes)\n",
    "df['Year'] = df['Date'].dt.year\n",
    "df['Month'] = df['Date'].dt.month\n",
    "\n",
    "df.head(1)"
   ]
  },
  {
   "cell_type": "code",
   "execution_count": 48,
   "metadata": {},
   "outputs": [
    {
     "name": "stderr",
     "output_type": "stream",
     "text": [
      "c:\\Users\\Administrador\\AppData\\Local\\Programs\\Python\\Python311\\Lib\\site-packages\\pandas\\core\\arraylike.py:402: RuntimeWarning: divide by zero encountered in log\n",
      "  result = getattr(ufunc, method)(*inputs, **kwargs)\n"
     ]
    },
    {
     "data": {
      "text/html": [
       "<div>\n",
       "<style scoped>\n",
       "    .dataframe tbody tr th:only-of-type {\n",
       "        vertical-align: middle;\n",
       "    }\n",
       "\n",
       "    .dataframe tbody tr th {\n",
       "        vertical-align: top;\n",
       "    }\n",
       "\n",
       "    .dataframe thead th {\n",
       "        text-align: right;\n",
       "    }\n",
       "</style>\n",
       "<table border=\"1\" class=\"dataframe\">\n",
       "  <thead>\n",
       "    <tr style=\"text-align: right;\">\n",
       "      <th></th>\n",
       "      <th>Date</th>\n",
       "      <th>size</th>\n",
       "      <th>sentbyaddress</th>\n",
       "      <th>mining_profitability</th>\n",
       "      <th>sentinusd</th>\n",
       "      <th>transactionfees</th>\n",
       "      <th>median_transaction_fee</th>\n",
       "      <th>confirmationtime</th>\n",
       "      <th>marketcap</th>\n",
       "      <th>transactionvalue</th>\n",
       "      <th>mediantransactionvalue</th>\n",
       "      <th>google_trends</th>\n",
       "      <th>fee_to_reward</th>\n",
       "      <th>activeaddresses</th>\n",
       "      <th>top100cap</th>\n",
       "      <th>Year</th>\n",
       "      <th>Month</th>\n",
       "      <th>PriceUSD_log</th>\n",
       "      <th>transactions_log</th>\n",
       "      <th>tweets_log</th>\n",
       "    </tr>\n",
       "  </thead>\n",
       "  <tbody>\n",
       "    <tr>\n",
       "      <th>0</th>\n",
       "      <td>2014-04-09</td>\n",
       "      <td>243742.0</td>\n",
       "      <td>122401</td>\n",
       "      <td>38.678</td>\n",
       "      <td>239212041.0</td>\n",
       "      <td>0.139</td>\n",
       "      <td>0.0447</td>\n",
       "      <td>8.944</td>\n",
       "      <td>5587996110</td>\n",
       "      <td>4115.0</td>\n",
       "      <td>100.42</td>\n",
       "      <td>11.193</td>\n",
       "      <td>0.502</td>\n",
       "      <td>179274</td>\n",
       "      <td>19.211</td>\n",
       "      <td>2014</td>\n",
       "      <td>4</td>\n",
       "      <td>6.102805</td>\n",
       "      <td>11.082019</td>\n",
       "      <td>9.011035</td>\n",
       "    </tr>\n",
       "  </tbody>\n",
       "</table>\n",
       "</div>"
      ],
      "text/plain": [
       "        Date      size  sentbyaddress  mining_profitability    sentinusd  \\\n",
       "0 2014-04-09  243742.0         122401                38.678  239212041.0   \n",
       "\n",
       "   transactionfees  median_transaction_fee  confirmationtime   marketcap  \\\n",
       "0            0.139                  0.0447             8.944  5587996110   \n",
       "\n",
       "   transactionvalue  mediantransactionvalue  google_trends  fee_to_reward  \\\n",
       "0            4115.0                  100.42         11.193          0.502   \n",
       "\n",
       "   activeaddresses  top100cap  Year  Month  PriceUSD_log  transactions_log  \\\n",
       "0           179274     19.211  2014      4      6.102805         11.082019   \n",
       "\n",
       "   tweets_log  \n",
       "0    9.011035  "
      ]
     },
     "execution_count": 48,
     "metadata": {},
     "output_type": "execute_result"
    }
   ],
   "source": [
    "df_log = pd.DataFrame\n",
    "\n",
    "df['PriceUSD_log'] = np.log(df['priceUSD'])\n",
    "df['transactions_log'] = np.log(df['transactions'])\n",
    "df['tweets_log'] = np.log(df['tweets'])\n",
    "df_log = df.drop(columns=['priceUSD', 'transactions', 'tweets'])\n",
    "df_log.head(1)"
   ]
  },
  {
   "cell_type": "code",
   "execution_count": 49,
   "metadata": {},
   "outputs": [
    {
     "data": {
      "text/plain": [
       "count    3180.000000\n",
       "mean            -inf\n",
       "std              NaN\n",
       "min             -inf\n",
       "25%         9.994778\n",
       "50%        10.315316\n",
       "75%        11.226010\n",
       "max        12.803716\n",
       "Name: tweets_log, dtype: float64"
      ]
     },
     "execution_count": 49,
     "metadata": {},
     "output_type": "execute_result"
    }
   ],
   "source": [
    "df_log['tweets_log'].describe()"
   ]
  },
  {
   "cell_type": "code",
   "execution_count": 50,
   "metadata": {},
   "outputs": [
    {
     "name": "stdout",
     "output_type": "stream",
     "text": [
      "Cantidad de valores -inf: 56\n"
     ]
    }
   ],
   "source": [
    "count_inf = np.isinf(df_log['tweets_log']).sum()\n",
    "print(\"Cantidad de valores -inf:\", count_inf)"
   ]
  },
  {
   "cell_type": "code",
   "execution_count": 57,
   "metadata": {},
   "outputs": [],
   "source": [
    "df_log = df_log[~np.isinf(df_log['tweets_log'])]"
   ]
  },
  {
   "cell_type": "code",
   "execution_count": 58,
   "metadata": {},
   "outputs": [
    {
     "data": {
      "text/plain": [
       "count    3124.000000\n",
       "mean       10.585935\n",
       "std         0.746128\n",
       "min         6.098074\n",
       "25%        10.015085\n",
       "50%        10.329931\n",
       "75%        11.249708\n",
       "max        12.803716\n",
       "Name: tweets_log, dtype: float64"
      ]
     },
     "execution_count": 58,
     "metadata": {},
     "output_type": "execute_result"
    }
   ],
   "source": [
    "df_log['tweets_log'].describe()"
   ]
  },
  {
   "cell_type": "code",
   "execution_count": 59,
   "metadata": {},
   "outputs": [
    {
     "name": "stdout",
     "output_type": "stream",
     "text": [
      "Matriz de correlación:\n",
      "                            size  sentbyaddress  mining_profitability  \\\n",
      "size                    1.000000       0.704995             -0.569438   \n",
      "sentbyaddress           0.704995       1.000000             -0.546385   \n",
      "mining_profitability   -0.569438      -0.546385              1.000000   \n",
      "sentinusd               0.098225       0.454563             -0.163238   \n",
      "transactionfees         0.354361       0.390257             -0.100044   \n",
      "median_transaction_fee  0.364739       0.374568             -0.082999   \n",
      "confirmationtime        0.236675       0.049658             -0.194359   \n",
      "marketcap               0.142879       0.588032             -0.237884   \n",
      "transactionvalue        0.022834       0.436175             -0.167436   \n",
      "mediantransactionvalue  0.367027       0.516139             -0.161433   \n",
      "google_trends           0.385567       0.546752             -0.195986   \n",
      "fee_to_reward           0.611889       0.463602             -0.164128   \n",
      "activeaddresses         0.655502       0.934823             -0.487375   \n",
      "top100cap              -0.440312      -0.763939              0.339403   \n",
      "Year                    0.407467       0.830187             -0.496594   \n",
      "Month                  -0.055221       0.034720             -0.031263   \n",
      "PriceUSD_log            0.408915       0.805941             -0.378471   \n",
      "transactions_log        0.845614       0.881783             -0.680698   \n",
      "tweets_log              0.181586       0.557183             -0.286854   \n",
      "\n",
      "                        sentinusd  transactionfees  median_transaction_fee  \\\n",
      "size                     0.098225         0.354361                0.364739   \n",
      "sentbyaddress            0.454563         0.390257                0.374568   \n",
      "mining_profitability    -0.163238        -0.100044               -0.082999   \n",
      "sentinusd                1.000000         0.250203                0.207120   \n",
      "transactionfees          0.250203         1.000000                0.986569   \n",
      "median_transaction_fee   0.207120         0.986569                1.000000   \n",
      "confirmationtime         0.063335         0.111549                0.099315   \n",
      "marketcap                0.626074         0.449319                0.364877   \n",
      "transactionvalue         0.781789         0.191112                0.126809   \n",
      "mediantransactionvalue   0.355673         0.776097                0.789406   \n",
      "google_trends            0.429487         0.747534                0.732160   \n",
      "fee_to_reward            0.067211         0.735527                0.775567   \n",
      "activeaddresses          0.475609         0.475080                0.444366   \n",
      "top100cap               -0.361657        -0.293086               -0.260677   \n",
      "Year                     0.539912         0.267560                0.211863   \n",
      "Month                    0.009971        -0.085690               -0.066956   \n",
      "PriceUSD_log             0.541920         0.421571                0.369044   \n",
      "transactions_log         0.244149         0.263502                0.262021   \n",
      "tweets_log               0.627779         0.391229                0.342649   \n",
      "\n",
      "                        confirmationtime  marketcap  transactionvalue  \\\n",
      "size                            0.236675   0.142879          0.022834   \n",
      "sentbyaddress                   0.049658   0.588032          0.436175   \n",
      "mining_profitability           -0.194359  -0.237884         -0.167436   \n",
      "sentinusd                       0.063335   0.626074          0.781789   \n",
      "transactionfees                 0.111549   0.449319          0.191112   \n",
      "median_transaction_fee          0.099315   0.364877          0.126809   \n",
      "confirmationtime                1.000000   0.103370          0.070469   \n",
      "marketcap                       0.103370   1.000000          0.826357   \n",
      "transactionvalue                0.070469   0.826357          1.000000   \n",
      "mediantransactionvalue          0.065654   0.471448          0.329308   \n",
      "google_trends                   0.079348   0.636747          0.456805   \n",
      "fee_to_reward                   0.154518   0.115690         -0.030144   \n",
      "activeaddresses                 0.025604   0.662234          0.473390   \n",
      "top100cap                      -0.128257  -0.594703         -0.410453   \n",
      "Year                            0.171306   0.752131          0.593882   \n",
      "Month                           0.030943  -0.030748         -0.006119   \n",
      "PriceUSD_log                    0.125981   0.803733          0.614626   \n",
      "transactions_log                0.049035   0.332536          0.209509   \n",
      "tweets_log                      0.117034   0.769841          0.702119   \n",
      "\n",
      "                        mediantransactionvalue  google_trends  fee_to_reward  \\\n",
      "size                                  0.367027       0.385567       0.611889   \n",
      "sentbyaddress                         0.516139       0.546752       0.463602   \n",
      "mining_profitability                 -0.161433      -0.195986      -0.164128   \n",
      "sentinusd                             0.355673       0.429487       0.067211   \n",
      "transactionfees                       0.776097       0.747534       0.735527   \n",
      "median_transaction_fee                0.789406       0.732160       0.775567   \n",
      "confirmationtime                      0.065654       0.079348       0.154518   \n",
      "marketcap                             0.471448       0.636747       0.115690   \n",
      "transactionvalue                      0.329308       0.456805      -0.030144   \n",
      "mediantransactionvalue                1.000000       0.759784       0.632191   \n",
      "google_trends                         0.759784       1.000000       0.540240   \n",
      "fee_to_reward                         0.632191       0.540240       1.000000   \n",
      "activeaddresses                       0.572946       0.628938       0.452603   \n",
      "top100cap                            -0.329208      -0.457643      -0.268778   \n",
      "Year                                  0.390484       0.485548       0.144397   \n",
      "Month                                -0.017413      -0.078600      -0.020912   \n",
      "PriceUSD_log                          0.548339       0.649254       0.268421   \n",
      "transactions_log                      0.352366       0.397077       0.412926   \n",
      "tweets_log                            0.540142       0.621355       0.216558   \n",
      "\n",
      "                        activeaddresses  top100cap      Year     Month  \\\n",
      "size                           0.655502  -0.440312  0.407467 -0.055221   \n",
      "sentbyaddress                  0.934823  -0.763939  0.830187  0.034720   \n",
      "mining_profitability          -0.487375   0.339403 -0.496594 -0.031263   \n",
      "sentinusd                      0.475609  -0.361657  0.539912  0.009971   \n",
      "transactionfees                0.475080  -0.293086  0.267560 -0.085690   \n",
      "median_transaction_fee         0.444366  -0.260677  0.211863 -0.066956   \n",
      "confirmationtime               0.025604  -0.128257  0.171306  0.030943   \n",
      "marketcap                      0.662234  -0.594703  0.752131 -0.030748   \n",
      "transactionvalue               0.473390  -0.410453  0.593882 -0.006119   \n",
      "mediantransactionvalue         0.572946  -0.329208  0.390484 -0.017413   \n",
      "google_trends                  0.628938  -0.457643  0.485548 -0.078600   \n",
      "fee_to_reward                  0.452603  -0.268778  0.144397 -0.020912   \n",
      "activeaddresses                1.000000  -0.736418  0.837940 -0.003087   \n",
      "top100cap                     -0.736418   1.000000 -0.818243 -0.030165   \n",
      "Year                           0.837940  -0.818243  1.000000 -0.073292   \n",
      "Month                         -0.003087  -0.030165 -0.073292  1.000000   \n",
      "PriceUSD_log                   0.848603  -0.802710  0.930596  0.025525   \n",
      "transactions_log               0.799687  -0.665678  0.683675 -0.005839   \n",
      "tweets_log                     0.596451  -0.388749  0.649481 -0.003569   \n",
      "\n",
      "                        PriceUSD_log  transactions_log  tweets_log  \n",
      "size                        0.408915          0.845614    0.181586  \n",
      "sentbyaddress               0.805941          0.881783    0.557183  \n",
      "mining_profitability       -0.378471         -0.680698   -0.286854  \n",
      "sentinusd                   0.541920          0.244149    0.627779  \n",
      "transactionfees             0.421571          0.263502    0.391229  \n",
      "median_transaction_fee      0.369044          0.262021    0.342649  \n",
      "confirmationtime            0.125981          0.049035    0.117034  \n",
      "marketcap                   0.803733          0.332536    0.769841  \n",
      "transactionvalue            0.614626          0.209509    0.702119  \n",
      "mediantransactionvalue      0.548339          0.352366    0.540142  \n",
      "google_trends               0.649254          0.397077    0.621355  \n",
      "fee_to_reward               0.268421          0.412926    0.216558  \n",
      "activeaddresses             0.848603          0.799687    0.596451  \n",
      "top100cap                  -0.802710         -0.665678   -0.388749  \n",
      "Year                        0.930596          0.683675    0.649481  \n",
      "Month                       0.025525         -0.005839   -0.003569  \n",
      "PriceUSD_log                1.000000          0.640984    0.673593  \n",
      "transactions_log            0.640984          1.000000    0.274207  \n",
      "tweets_log                  0.673593          0.274207    1.000000  \n"
     ]
    },
    {
     "name": "stderr",
     "output_type": "stream",
     "text": [
      "C:\\Users\\Administrador\\AppData\\Local\\Temp\\ipykernel_9780\\3503795895.py:1: FutureWarning: The default value of numeric_only in DataFrame.corr is deprecated. In a future version, it will default to False. Select only valid columns or specify the value of numeric_only to silence this warning.\n",
      "  correlation_matrix = df_log.corr()\n"
     ]
    }
   ],
   "source": [
    "correlation_matrix = df_log.corr()\n",
    "\n",
    "print(\"Matriz de correlación:\")\n",
    "print(correlation_matrix)"
   ]
  },
  {
   "cell_type": "code",
   "execution_count": 60,
   "metadata": {},
   "outputs": [
    {
     "name": "stdout",
     "output_type": "stream",
     "text": [
      "Coeficiente de correlación entre PriceUSD_log y transactions_log: 0.6409837686384662\n",
      "Coeficiente de correlación entre PriceUSD_log y tweets: 0.6735927688576421\n"
     ]
    }
   ],
   "source": [
    "correlation_coefficient = correlation_matrix.loc['PriceUSD_log', 'transactions_log']\n",
    "correlation_coefficient_tweets = correlation_matrix.loc['PriceUSD_log', 'tweets_log']\n",
    "print(\"Coeficiente de correlación entre PriceUSD_log y transactions_log:\", correlation_coefficient)\n",
    "print(\"Coeficiente de correlación entre PriceUSD_log y tweets:\", correlation_coefficient_tweets)"
   ]
  },
  {
   "cell_type": "code",
   "execution_count": 61,
   "metadata": {},
   "outputs": [
    {
     "name": "stdout",
     "output_type": "stream",
     "text": [
      "Error Cuadrático Medio (MSE): 0.13226543843404973\n",
      "Error Cuadrático Medio Raíz (RMSE): 0.3636831566543187\n",
      "La mediana de transacciones es: 12.442389052484504\n",
      "El RMSE de este modelo representa el  2.922936705485015 % de la mediana de transacciones.\n"
     ]
    }
   ],
   "source": [
    "from sklearn.linear_model import LinearRegression\n",
    "from sklearn.model_selection import train_test_split\n",
    "from sklearn.metrics import mean_squared_error\n",
    "import math\n",
    "\n",
    "x = df_log[['PriceUSD_log']]\n",
    "y = df_log[['transactions_log']]\n",
    "\n",
    "x_train, x_test, y_train, y_test = train_test_split(x, y, test_size=0.25, random_state=10000)\n",
    "\n",
    "modelo = LinearRegression()\n",
    "modelo.fit(x_train, y_train)\n",
    "\n",
    "y_pred = modelo.predict(x_test)\n",
    "\n",
    "mse = mean_squared_error(y_test, y_pred)\n",
    "rmse = math.sqrt(mse)\n",
    "mediana = df_log['transactions_log'].median()\n",
    "print('Error Cuadrático Medio (MSE):', mse)\n",
    "print('Error Cuadrático Medio Raíz (RMSE):', rmse)\n",
    "print(\"La mediana de transacciones es:\", mediana)\n",
    "print(\"El RMSE de este modelo representa el \", rmse/mediana*100 , \"%\", \"de la mediana de transacciones.\" )"
   ]
  },
  {
   "cell_type": "code",
   "execution_count": 62,
   "metadata": {},
   "outputs": [
    {
     "name": "stdout",
     "output_type": "stream",
     "text": [
      "Error Cuadrático Medio (MSE): 0.332915348964584\n",
      "Error Cuadrático Medio Raíz (RMSE): 0.5769881705586207\n",
      "La mediana de transacciones es: 10.329931066496755\n",
      "El RMSE de este modelo representa el  5.585595555714564 % de la mediana de transacciones.\n"
     ]
    }
   ],
   "source": [
    "x = df_log[['PriceUSD_log']]\n",
    "y = df_log[['tweets_log']]\n",
    "\n",
    "x_train, x_test, y_train, y_test = train_test_split(x, y, test_size=0.25, random_state=10000)\n",
    "\n",
    "modelo = LinearRegression()\n",
    "modelo.fit(x_train, y_train)\n",
    "\n",
    "y_pred = modelo.predict(x_test)\n",
    "\n",
    "mse = mean_squared_error(y_test, y_pred)\n",
    "rmse = math.sqrt(mse)\n",
    "mediana = df_log['tweets_log'].median()\n",
    "print('Error Cuadrático Medio (MSE):', mse)\n",
    "print('Error Cuadrático Medio Raíz (RMSE):', rmse)\n",
    "print(\"La mediana de transacciones es:\", mediana)\n",
    "print(\"El RMSE de este modelo representa el \", rmse/mediana*100 , \"%\", \"de la mediana de transacciones.\" )"
   ]
  },
  {
   "cell_type": "code",
   "execution_count": 66,
   "metadata": {},
   "outputs": [
    {
     "name": "stderr",
     "output_type": "stream",
     "text": [
      "c:\\Users\\Administrador\\AppData\\Local\\Programs\\Python\\Python311\\Lib\\site-packages\\sklearn\\base.py:420: UserWarning: X does not have valid feature names, but IsolationForest was fitted with feature names\n",
      "  warnings.warn(\n"
     ]
    },
    {
     "data": {
      "image/png": "[encoded data removed]",
      "text/plain": [
       "<Figure size 640x480 with 1 Axes>"
      ]
     },
     "metadata": {},
     "output_type": "display_data"
    }
   ],
   "source": [
    "import pandas as pd\n",
    "import numpy as np\n",
    "from sklearn.ensemble import IsolationForest\n",
    "import matplotlib.pyplot as plt\n",
    "\n",
    "X = df_log[['tweets_log']]\n",
    "\n",
    "isof = IsolationForest(n_estimators=100, contamination=0.05, random_state=0)\n",
    "isof.fit(X)\n",
    "\n",
    "outlier_labels = isof.predict(X)\n",
    "\n",
    "outlier_mask = outlier_labels == -1\n",
    "\n",
    "df_log = df_log[~outlier_mask]\n",
    "\n",
    "plt.scatter(df_log['tweets_log'], df_log['PriceUSD_log'])\n",
    "plt.xlabel('tweets_log')\n",
    "plt.ylabel('PriceUSD_log')\n",
    "plt.show()"
   ]
  },
  {
   "cell_type": "code",
   "execution_count": 68,
   "metadata": {},
   "outputs": [
    {
     "data": {
      "image/png": "[encoded data removed]",
      "text/plain": [
       "<Figure size 640x480 with 1 Axes>"
      ]
     },
     "metadata": {},
     "output_type": "display_data"
    }
   ],
   "source": [
    "import matplotlib.pyplot as plt\n",
    "\n",
    "# crea una figura y un eje\n",
    "fig, ax = plt.subplots()\n",
    "\n",
    "# grafica los puntos\n",
    "ax.scatter(df_log['transactions_log'], df_log['PriceUSD_log'])\n",
    "\n",
    "# establece el título y los nombres de los ejes\n",
    "ax.set_title('Relación entre Tweets y Precio USD')\n",
    "ax.set_xlabel('Transactions')\n",
    "ax.set_ylabel('Precio USD')\n",
    "\n",
    "# muestra el gráfico\n",
    "plt.show()"
   ]
  }
 ],
 "metadata": {
  "kernelspec": {
   "display_name": "Python 3",
   "language": "python",
   "name": "python3"
  },
  "language_info": {
   "codemirror_mode": {
    "name": "ipython",
    "version": 3
   },
   "file_extension": ".py",
   "mimetype": "text/x-python",
   "name": "python",
   "nbconvert_exporter": "python",
   "pygments_lexer": "ipython3",
   "version": "3.11.1"
  },
  "orig_nbformat": 4,
  "vscode": {
   "interpreter": {
    "hash": "c904bd87413170da76a9f53115cf6340fbe80dab715b9d9be2cd45de1b24f56d"
   }
  }
 },
 "nbformat": 4,
 "nbformat_minor": 2
}
