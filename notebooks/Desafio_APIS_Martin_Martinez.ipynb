{
 "cells": [
  {
   "cell_type": "code",
   "execution_count": 56,
   "metadata": {},
   "outputs": [],
   "source": [
    "import pandas as pd\n",
    "import numpy as np\n",
    "import requests\n",
    "import json"
   ]
  },
  {
   "attachments": {},
   "cell_type": "markdown",
   "metadata": {},
   "source": [
    "**Descarga de datos desde APIs públicas**\n",
    "\n",
    "La API seleccionada es la de *BitcoinCharts*, la información que se considera relevante en esta API es la de precios ponderados de BTC actualizados diariamente. La API retorna el precio promedio ponderado(PPP) de BTC de las últimas 24 horas, ofreciendo también el calculo de PPP semanal y PPP mensual.\n",
    "\n",
    "\n",
    "En esta API también se puede encontrar información actualizada diariamente sobre operaciones de trading realizadas en diferentes exchanges. Respecto a esta información, por el momento no se considera relevante para el análisis.\n",
    "\n"
   ]
  },
  {
   "cell_type": "code",
   "execution_count": 57,
   "metadata": {},
   "outputs": [],
   "source": [
    "url_ponderados = 'http://api.bitcoincharts.com/v1/weighted_prices.json'\n",
    "df_ponderados = requests.get(url_ponderados)"
   ]
  },
  {
   "cell_type": "code",
   "execution_count": 58,
   "metadata": {},
   "outputs": [
    {
     "name": "stdout",
     "output_type": "stream",
     "text": [
      "<Response [200]>\n"
     ]
    }
   ],
   "source": [
    "def imprime_df(i):\n",
    "    print(i)\n",
    "\n",
    "imprime_df(df_ponderados)"
   ]
  },
  {
   "cell_type": "code",
   "execution_count": 59,
   "metadata": {},
   "outputs": [
    {
     "name": "stdout",
     "output_type": "stream",
     "text": [
      "497\n"
     ]
    },
    {
     "data": {
      "text/plain": [
       "'{\"USD\": {\"7d\": \"27933.92\", \"30d\": \"24721.33\", \"24h\": \"27768.50\"}, \"AUD\": {\"7d\": \"41770.07\", \"30d\": \"35639.08\", \"24h\": \"41718.07\"}, \"timestamp\": 1679863683, \"KRW\": {\"7d\": \"37060339.78\", \"30d\": \"32936520.42\", \"24h\": \"36883009.97\"}, \"JPY\": {\"7d\": \"3672239.78\", \"30d\": \"3270663.50\", \"24h\": \"3633239.21\"}, \"ILS\": {\"7d\": \"100732.49\", \"30d\": \"88715.84\", \"24h\": \"100825.70\"}, \"EUR\": {\"7d\": \"25923.99\", \"30d\": \"22987.51\", \"24h\": \"25865.58\"}, \"CAD\": {\"7d\": \"38166.63\", \"30d\": \"32864.89\", \"24h\": \"37743.59\"}}'"
      ]
     },
     "execution_count": 59,
     "metadata": {},
     "output_type": "execute_result"
    }
   ],
   "source": [
    "print(len(df_ponderados.text))\n",
    "df_ponderados.text"
   ]
  },
  {
   "cell_type": "code",
   "execution_count": 60,
   "metadata": {},
   "outputs": [
    {
     "data": {
      "text/plain": [
       "{'USD': {'7d': '27933.92', '30d': '24721.33', '24h': '27768.50'},\n",
       " 'AUD': {'7d': '41770.07', '30d': '35639.08', '24h': '41718.07'},\n",
       " 'timestamp': 1679863683,\n",
       " 'KRW': {'7d': '37060339.78', '30d': '32936520.42', '24h': '36883009.97'},\n",
       " 'JPY': {'7d': '3672239.78', '30d': '3270663.50', '24h': '3633239.21'},\n",
       " 'ILS': {'7d': '100732.49', '30d': '88715.84', '24h': '100825.70'},\n",
       " 'EUR': {'7d': '25923.99', '30d': '22987.51', '24h': '25865.58'},\n",
       " 'CAD': {'7d': '38166.63', '30d': '32864.89', '24h': '37743.59'}}"
      ]
     },
     "execution_count": 60,
     "metadata": {},
     "output_type": "execute_result"
    }
   ],
   "source": [
    "texto_ponderados = df_ponderados.text\n",
    "json.loads(texto_ponderados)"
   ]
  },
  {
   "cell_type": "code",
   "execution_count": 66,
   "metadata": {},
   "outputs": [
    {
     "data": {
      "text/html": [
       "<div>\n",
       "<style scoped>\n",
       "    .dataframe tbody tr th:only-of-type {\n",
       "        vertical-align: middle;\n",
       "    }\n",
       "\n",
       "    .dataframe tbody tr th {\n",
       "        vertical-align: top;\n",
       "    }\n",
       "\n",
       "    .dataframe thead th {\n",
       "        text-align: right;\n",
       "    }\n",
       "</style>\n",
       "<table border=\"1\" class=\"dataframe\">\n",
       "  <thead>\n",
       "    <tr style=\"text-align: right;\">\n",
       "      <th></th>\n",
       "      <th>USD</th>\n",
       "      <th>AUD</th>\n",
       "      <th>timestamp</th>\n",
       "      <th>KRW</th>\n",
       "      <th>JPY</th>\n",
       "      <th>ILS</th>\n",
       "      <th>EUR</th>\n",
       "      <th>CAD</th>\n",
       "    </tr>\n",
       "  </thead>\n",
       "  <tbody>\n",
       "    <tr>\n",
       "      <th>7d</th>\n",
       "      <td>27933.92</td>\n",
       "      <td>41770.07</td>\n",
       "      <td>1679863683</td>\n",
       "      <td>37060339.78</td>\n",
       "      <td>3672239.78</td>\n",
       "      <td>100732.49</td>\n",
       "      <td>25923.99</td>\n",
       "      <td>38166.63</td>\n",
       "    </tr>\n",
       "    <tr>\n",
       "      <th>30d</th>\n",
       "      <td>24721.33</td>\n",
       "      <td>35639.08</td>\n",
       "      <td>1679863683</td>\n",
       "      <td>32936520.42</td>\n",
       "      <td>3270663.50</td>\n",
       "      <td>88715.84</td>\n",
       "      <td>22987.51</td>\n",
       "      <td>32864.89</td>\n",
       "    </tr>\n",
       "    <tr>\n",
       "      <th>24h</th>\n",
       "      <td>27768.50</td>\n",
       "      <td>41718.07</td>\n",
       "      <td>1679863683</td>\n",
       "      <td>36883009.97</td>\n",
       "      <td>3633239.21</td>\n",
       "      <td>100825.70</td>\n",
       "      <td>25865.58</td>\n",
       "      <td>37743.59</td>\n",
       "    </tr>\n",
       "  </tbody>\n",
       "</table>\n",
       "</div>"
      ],
      "text/plain": [
       "          USD       AUD   timestamp          KRW         JPY        ILS  \\\n",
       "7d   27933.92  41770.07  1679863683  37060339.78  3672239.78  100732.49   \n",
       "30d  24721.33  35639.08  1679863683  32936520.42  3270663.50   88715.84   \n",
       "24h  27768.50  41718.07  1679863683  36883009.97  3633239.21  100825.70   \n",
       "\n",
       "          EUR       CAD  \n",
       "7d   25923.99  38166.63  \n",
       "30d  22987.51  32864.89  \n",
       "24h  25865.58  37743.59  "
      ]
     },
     "execution_count": 66,
     "metadata": {},
     "output_type": "execute_result"
    }
   ],
   "source": [
    "jsondata_p = json.loads(texto_ponderados)\n",
    "df_ponderados1 = pd.DataFrame.from_dict(jsondata_p)\n",
    "df_ponderados1.head()"
   ]
  },
  {
   "cell_type": "code",
   "execution_count": 69,
   "metadata": {},
   "outputs": [],
   "source": [
    "data_markets = pd.read_json(df_ponderados.text)\n",
    "precios_ponderados260323 = '..\\\\data\\\\PPP_bitcoincharts\\\\ponderados260323.csv'\n",
    "data_markets.to_csv(precios_ponderados260323, index=False)\n",
    "\n",
    "#Se exporta el archivo a la carpeta data, en formato .csv para guardar un historial de esta información."
   ]
  }
 ],
 "metadata": {
  "kernelspec": {
   "display_name": "Python 3",
   "language": "python",
   "name": "python3"
  },
  "language_info": {
   "codemirror_mode": {
    "name": "ipython",
    "version": 3
   },
   "file_extension": ".py",
   "mimetype": "text/x-python",
   "name": "python",
   "nbconvert_exporter": "python",
   "pygments_lexer": "ipython3",
   "version": "3.11.1"
  },
  "orig_nbformat": 4
 },
 "nbformat": 4,
 "nbformat_minor": 2
}
