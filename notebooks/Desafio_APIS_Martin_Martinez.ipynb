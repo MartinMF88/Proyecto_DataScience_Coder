{
 "cells": [
  {
   "cell_type": "code",
   "execution_count": 77,
   "metadata": {},
   "outputs": [],
   "source": [
    "import pandas as pd\n",
    "import numpy as np\n",
    "import requests\n",
    "import json"
   ]
  },
  {
   "attachments": {},
   "cell_type": "markdown",
   "metadata": {},
   "source": [
    "**Descarga de datos desde APIs públicas**\n",
    "\n",
    "La API seleccionada es la de *BitcoinCharts*, la información que se considera relevante en esta API es la de precios ponderados de BTC actualizados diariamente. La API retorna el precio promedio ponderado(PPP) de BTC de las últimas 24 horas, ofreciendo también el calculo de PPP semanal y PPP mensual.\n",
    "\n",
    "\n",
    "En esta API también se puede encontrar información actualizada diariamente sobre operaciones de trading realizadas en diferentes exchanges. Respecto a esta información, por el momento no se considera relevante para el análisis.\n",
    "\n"
   ]
  },
  {
   "cell_type": "code",
   "execution_count": 78,
   "metadata": {},
   "outputs": [],
   "source": [
    "url_ponderados = 'http://api.bitcoincharts.com/v1/weighted_prices.json'\n",
    "df_ponderados = requests.get(url_ponderados)"
   ]
  },
  {
   "cell_type": "code",
   "execution_count": 79,
   "metadata": {},
   "outputs": [
    {
     "name": "stdout",
     "output_type": "stream",
     "text": [
      "<Response [200]>\n"
     ]
    }
   ],
   "source": [
    "def imprime_df(i):\n",
    "    print(i)\n",
    "\n",
    "imprime_df(df_ponderados)"
   ]
  },
  {
   "cell_type": "code",
   "execution_count": 80,
   "metadata": {},
   "outputs": [
    {
     "name": "stdout",
     "output_type": "stream",
     "text": [
      "497\n"
     ]
    },
    {
     "data": {
      "text/plain": [
       "'{\"USD\": {\"7d\": \"27931.41\", \"30d\": \"24723.60\", \"24h\": \"27775.29\"}, \"AUD\": {\"7d\": \"41765.22\", \"30d\": \"35641.11\", \"24h\": \"41720.27\"}, \"timestamp\": 1679864762, \"KRW\": {\"7d\": \"37058871.84\", \"30d\": \"32938518.03\", \"24h\": \"36884224.78\"}, \"JPY\": {\"7d\": \"3671953.00\", \"30d\": \"3270878.56\", \"24h\": \"3634750.36\"}, \"ILS\": {\"7d\": \"100732.24\", \"30d\": \"88716.22\", \"24h\": \"100822.99\"}, \"EUR\": {\"7d\": \"25920.01\", \"30d\": \"22989.11\", \"24h\": \"25870.07\"}, \"CAD\": {\"7d\": \"38160.28\", \"30d\": \"32866.22\", \"24h\": \"37747.35\"}}'"
      ]
     },
     "execution_count": 80,
     "metadata": {},
     "output_type": "execute_result"
    }
   ],
   "source": [
    "print(len(df_ponderados.text))\n",
    "df_ponderados.text"
   ]
  },
  {
   "cell_type": "code",
   "execution_count": 81,
   "metadata": {},
   "outputs": [
    {
     "data": {
      "text/plain": [
       "{'USD': {'7d': '27931.41', '30d': '24723.60', '24h': '27775.29'},\n",
       " 'AUD': {'7d': '41765.22', '30d': '35641.11', '24h': '41720.27'},\n",
       " 'timestamp': 1679864762,\n",
       " 'KRW': {'7d': '37058871.84', '30d': '32938518.03', '24h': '36884224.78'},\n",
       " 'JPY': {'7d': '3671953.00', '30d': '3270878.56', '24h': '3634750.36'},\n",
       " 'ILS': {'7d': '100732.24', '30d': '88716.22', '24h': '100822.99'},\n",
       " 'EUR': {'7d': '25920.01', '30d': '22989.11', '24h': '25870.07'},\n",
       " 'CAD': {'7d': '38160.28', '30d': '32866.22', '24h': '37747.35'}}"
      ]
     },
     "execution_count": 81,
     "metadata": {},
     "output_type": "execute_result"
    }
   ],
   "source": [
    "texto_ponderados = df_ponderados.text\n",
    "json.loads(texto_ponderados)"
   ]
  },
  {
   "cell_type": "code",
   "execution_count": 82,
   "metadata": {},
   "outputs": [
    {
     "data": {
      "text/html": [
       "<div>\n",
       "<style scoped>\n",
       "    .dataframe tbody tr th:only-of-type {\n",
       "        vertical-align: middle;\n",
       "    }\n",
       "\n",
       "    .dataframe tbody tr th {\n",
       "        vertical-align: top;\n",
       "    }\n",
       "\n",
       "    .dataframe thead th {\n",
       "        text-align: right;\n",
       "    }\n",
       "</style>\n",
       "<table border=\"1\" class=\"dataframe\">\n",
       "  <thead>\n",
       "    <tr style=\"text-align: right;\">\n",
       "      <th></th>\n",
       "      <th>USD</th>\n",
       "      <th>AUD</th>\n",
       "      <th>timestamp</th>\n",
       "      <th>KRW</th>\n",
       "      <th>JPY</th>\n",
       "      <th>ILS</th>\n",
       "      <th>EUR</th>\n",
       "      <th>CAD</th>\n",
       "    </tr>\n",
       "  </thead>\n",
       "  <tbody>\n",
       "    <tr>\n",
       "      <th>7d</th>\n",
       "      <td>27931.41</td>\n",
       "      <td>41765.22</td>\n",
       "      <td>1679864762</td>\n",
       "      <td>37058871.84</td>\n",
       "      <td>3671953.00</td>\n",
       "      <td>100732.24</td>\n",
       "      <td>25920.01</td>\n",
       "      <td>38160.28</td>\n",
       "    </tr>\n",
       "    <tr>\n",
       "      <th>30d</th>\n",
       "      <td>24723.60</td>\n",
       "      <td>35641.11</td>\n",
       "      <td>1679864762</td>\n",
       "      <td>32938518.03</td>\n",
       "      <td>3270878.56</td>\n",
       "      <td>88716.22</td>\n",
       "      <td>22989.11</td>\n",
       "      <td>32866.22</td>\n",
       "    </tr>\n",
       "    <tr>\n",
       "      <th>24h</th>\n",
       "      <td>27775.29</td>\n",
       "      <td>41720.27</td>\n",
       "      <td>1679864762</td>\n",
       "      <td>36884224.78</td>\n",
       "      <td>3634750.36</td>\n",
       "      <td>100822.99</td>\n",
       "      <td>25870.07</td>\n",
       "      <td>37747.35</td>\n",
       "    </tr>\n",
       "  </tbody>\n",
       "</table>\n",
       "</div>"
      ],
      "text/plain": [
       "          USD       AUD   timestamp          KRW         JPY        ILS  \\\n",
       "7d   27931.41  41765.22  1679864762  37058871.84  3671953.00  100732.24   \n",
       "30d  24723.60  35641.11  1679864762  32938518.03  3270878.56   88716.22   \n",
       "24h  27775.29  41720.27  1679864762  36884224.78  3634750.36  100822.99   \n",
       "\n",
       "          EUR       CAD  \n",
       "7d   25920.01  38160.28  \n",
       "30d  22989.11  32866.22  \n",
       "24h  25870.07  37747.35  "
      ]
     },
     "execution_count": 82,
     "metadata": {},
     "output_type": "execute_result"
    }
   ],
   "source": [
    "jsondata_p = json.loads(texto_ponderados)\n",
    "df_ponderados1 = pd.DataFrame.from_dict(jsondata_p)\n",
    "df_ponderados1.head()"
   ]
  },
  {
   "cell_type": "code",
   "execution_count": 85,
   "metadata": {},
   "outputs": [],
   "source": [
    "data_markets = pd.read_json(df_ponderados.text)\n",
    "precios_ponderados260323 = '..\\data\\PPP_bitcoincharts\\ponderados260323.csv'\n",
    "data_markets.to_csv(precios_ponderados260323, index=False)\n",
    "\n",
    "#Se exporta el archivo a la carpeta data, en formato .csv para guardar un historial de esta información."
   ]
  }
 ],
 "metadata": {
  "kernelspec": {
   "display_name": "Python 3",
   "language": "python",
   "name": "python3"
  },
  "language_info": {
   "codemirror_mode": {
    "name": "ipython",
    "version": 3
   },
   "file_extension": ".py",
   "mimetype": "text/x-python",
   "name": "python",
   "nbconvert_exporter": "python",
   "pygments_lexer": "ipython3",
   "version": "3.11.1"
  },
  "orig_nbformat": 4
 },
 "nbformat": 4,
 "nbformat_minor": 2
}
