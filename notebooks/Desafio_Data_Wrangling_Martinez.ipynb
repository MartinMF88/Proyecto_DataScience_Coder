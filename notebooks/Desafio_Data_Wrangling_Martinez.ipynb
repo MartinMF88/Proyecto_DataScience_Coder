{
 "cells": [
  {
   "cell_type": "code",
   "execution_count": 2,
   "metadata": {},
   "outputs": [],
   "source": [
    "import pandas as pd\n",
    "import numpy as np\n",
    "import matplotlib as mpl\n",
    "import matplotlib.pyplot as plt\n",
    "import seaborn as sns\n",
    "import datetime\n",
    "from scipy import stats\n",
    "import math\n",
    "import requests\n",
    "import json\n",
    "\n",
    "from sklearn.linear_model import LinearRegression\n",
    "from sklearn.model_selection import train_test_split\n",
    "from sklearn.metrics import mean_squared_error"
   ]
  },
  {
   "cell_type": "code",
   "execution_count": 3,
   "metadata": {},
   "outputs": [
    {
     "name": "stdout",
     "output_type": "stream",
     "text": [
      "Date                       object\n",
      "priceUSD                  float64\n",
      "size                      float64\n",
      "sentbyaddress               int64\n",
      "transactions                int64\n",
      "mining_profitability      float64\n",
      "sentinusd                 float64\n",
      "transactionfees           float64\n",
      "median_transaction_fee    float64\n",
      "confirmationtime          float64\n",
      "marketcap                   int64\n",
      "transactionvalue          float64\n",
      "mediantransactionvalue    float64\n",
      "tweets                      int64\n",
      "google_trends             float64\n",
      "fee_to_reward             float64\n",
      "activeaddresses             int64\n",
      "top100cap                 float64\n",
      "dtype: object\n",
      "datetime64[ns]\n"
     ]
    }
   ],
   "source": [
    "df = pd.read_csv('C:\\\\Users\\\\Administrador\\\\Desktop\\\\Data Scientist\\\\Data Science\\\\Proyecto\\\\GitHub\\\\Proyecto_DataScience_Coder\\\\data\\\\BTC_Data_final.csv')\n",
    "print(df.dtypes)\n",
    "df['Date']=pd.to_datetime(df['Date'])\n",
    "print(df['Date'].dtypes)\n",
    "df['Year'] = df['Date'].dt.year\n",
    "df['Month'] = df['Date'].dt.month"
   ]
  },
  {
   "attachments": {},
   "cell_type": "markdown",
   "metadata": {},
   "source": [
    "#### ANALIZANDO SI EXISTEN DATOS NULOS"
   ]
  },
  {
   "cell_type": "code",
   "execution_count": 4,
   "metadata": {},
   "outputs": [
    {
     "name": "stdout",
     "output_type": "stream",
     "text": [
      "Date                      0\n",
      "priceUSD                  0\n",
      "size                      0\n",
      "sentbyaddress             0\n",
      "transactions              0\n",
      "mining_profitability      0\n",
      "sentinusd                 0\n",
      "transactionfees           0\n",
      "median_transaction_fee    0\n",
      "confirmationtime          0\n",
      "marketcap                 0\n",
      "transactionvalue          0\n",
      "mediantransactionvalue    0\n",
      "tweets                    0\n",
      "google_trends             0\n",
      "fee_to_reward             0\n",
      "activeaddresses           0\n",
      "top100cap                 0\n",
      "Year                      0\n",
      "Month                     0\n",
      "dtype: int64\n"
     ]
    }
   ],
   "source": [
    "print(df.isnull().sum())"
   ]
  },
  {
   "attachments": {},
   "cell_type": "markdown",
   "metadata": {},
   "source": [
    "Tal cual vemos el dataset ya fue procesado quitandole los datos nulos de todas las variables."
   ]
  },
  {
   "attachments": {},
   "cell_type": "markdown",
   "metadata": {},
   "source": [
    "VALORES DUPLICADOS.\n",
    "\n",
    "Dada la naturaleza del dataset, es válido que existan valores duplicados en las columnas ya que se pueden repetir diferentes precios, costos de transacciones o volumenes de trade.\n",
    "\n",
    "El caso en el que no deberían existir duplicados es en la columna date, ya que por cada día se analiza un único precio de cierre de BTC.\n",
    "\n",
    "Para corroborar que no existan fechas duplicados se corre el siguiente código."
   ]
  },
  {
   "cell_type": "code",
   "execution_count": 6,
   "metadata": {},
   "outputs": [
    {
     "name": "stdout",
     "output_type": "stream",
     "text": [
      "Empty DataFrame\n",
      "Columns: [Date, priceUSD, size, sentbyaddress, transactions, mining_profitability, sentinusd, transactionfees, median_transaction_fee, confirmationtime, marketcap, transactionvalue, mediantransactionvalue, tweets, google_trends, fee_to_reward, activeaddresses, top100cap, Year, Month]\n",
      "Index: []\n"
     ]
    }
   ],
   "source": [
    "fecha = df['Date']\n",
    "\n",
    "duplicados = fecha.duplicated()\n",
    "\n",
    "print(df[duplicados])"
   ]
  },
  {
   "attachments": {},
   "cell_type": "markdown",
   "metadata": {},
   "source": [
    "A continuación se realiza el mismo analisis para el dataset descargado de la API Bitcoincharts"
   ]
  },
  {
   "cell_type": "code",
   "execution_count": 10,
   "metadata": {},
   "outputs": [
    {
     "data": {
      "text/html": [
       "<div>\n",
       "<style scoped>\n",
       "    .dataframe tbody tr th:only-of-type {\n",
       "        vertical-align: middle;\n",
       "    }\n",
       "\n",
       "    .dataframe tbody tr th {\n",
       "        vertical-align: top;\n",
       "    }\n",
       "\n",
       "    .dataframe thead th {\n",
       "        text-align: right;\n",
       "    }\n",
       "</style>\n",
       "<table border=\"1\" class=\"dataframe\">\n",
       "  <thead>\n",
       "    <tr style=\"text-align: right;\">\n",
       "      <th></th>\n",
       "      <th>USD</th>\n",
       "      <th>AUD</th>\n",
       "      <th>timestamp</th>\n",
       "      <th>KRW</th>\n",
       "      <th>JPY</th>\n",
       "      <th>ILS</th>\n",
       "      <th>EUR</th>\n",
       "      <th>CAD</th>\n",
       "    </tr>\n",
       "  </thead>\n",
       "  <tbody>\n",
       "    <tr>\n",
       "      <th>0</th>\n",
       "      <td>27931.41</td>\n",
       "      <td>41765.22</td>\n",
       "      <td>2023-03-26 21:09:05</td>\n",
       "      <td>37058871.84</td>\n",
       "      <td>3671953.00</td>\n",
       "      <td>100732.24</td>\n",
       "      <td>25919.99</td>\n",
       "      <td>38160.28</td>\n",
       "    </tr>\n",
       "    <tr>\n",
       "      <th>1</th>\n",
       "      <td>24723.61</td>\n",
       "      <td>35641.11</td>\n",
       "      <td>2023-03-26 21:09:05</td>\n",
       "      <td>32938518.03</td>\n",
       "      <td>3270878.56</td>\n",
       "      <td>88716.22</td>\n",
       "      <td>22989.22</td>\n",
       "      <td>32866.22</td>\n",
       "    </tr>\n",
       "    <tr>\n",
       "      <th>2</th>\n",
       "      <td>27775.29</td>\n",
       "      <td>41720.27</td>\n",
       "      <td>2023-03-26 21:09:05</td>\n",
       "      <td>36884224.78</td>\n",
       "      <td>3634750.36</td>\n",
       "      <td>100822.99</td>\n",
       "      <td>25869.91</td>\n",
       "      <td>37747.35</td>\n",
       "    </tr>\n",
       "  </tbody>\n",
       "</table>\n",
       "</div>"
      ],
      "text/plain": [
       "        USD       AUD            timestamp          KRW         JPY  \\\n",
       "0  27931.41  41765.22  2023-03-26 21:09:05  37058871.84  3671953.00   \n",
       "1  24723.61  35641.11  2023-03-26 21:09:05  32938518.03  3270878.56   \n",
       "2  27775.29  41720.27  2023-03-26 21:09:05  36884224.78  3634750.36   \n",
       "\n",
       "         ILS       EUR       CAD  \n",
       "0  100732.24  25919.99  38160.28  \n",
       "1   88716.22  22989.22  32866.22  \n",
       "2  100822.99  25869.91  37747.35  "
      ]
     },
     "execution_count": 10,
     "metadata": {},
     "output_type": "execute_result"
    }
   ],
   "source": [
    "df_API = pd.read_csv('C:\\\\Users\\\\Administrador\\\\Desktop\\\\Data Scientist\\\\Data Science\\\\Proyecto\\\\GitHub\\\\Proyecto_DataScience_Coder\\\\data\\\\PPP_bitcoincharts\\\\ponderados260323.csv')\n",
    "df_API.head()"
   ]
  },
  {
   "cell_type": "code",
   "execution_count": 11,
   "metadata": {},
   "outputs": [
    {
     "name": "stdout",
     "output_type": "stream",
     "text": [
      "USD          0\n",
      "AUD          0\n",
      "timestamp    0\n",
      "KRW          0\n",
      "JPY          0\n",
      "ILS          0\n",
      "EUR          0\n",
      "CAD          0\n",
      "dtype: int64\n"
     ]
    }
   ],
   "source": [
    "print(df_API.isnull().sum())"
   ]
  },
  {
   "cell_type": "code",
   "execution_count": 12,
   "metadata": {},
   "outputs": [
    {
     "name": "stdout",
     "output_type": "stream",
     "text": [
      "Empty DataFrame\n",
      "Columns: [USD, AUD, timestamp, KRW, JPY, ILS, EUR, CAD]\n",
      "Index: []\n"
     ]
    }
   ],
   "source": [
    "APIduplicados = df_API.duplicated()\n",
    "\n",
    "print(df_API[APIduplicados])"
   ]
  }
 ],
 "metadata": {
  "kernelspec": {
   "display_name": "Python 3",
   "language": "python",
   "name": "python3"
  },
  "language_info": {
   "codemirror_mode": {
    "name": "ipython",
    "version": 3
   },
   "file_extension": ".py",
   "mimetype": "text/x-python",
   "name": "python",
   "nbconvert_exporter": "python",
   "pygments_lexer": "ipython3",
   "version": "3.11.1"
  },
  "orig_nbformat": 4
 },
 "nbformat": 4,
 "nbformat_minor": 2
}
